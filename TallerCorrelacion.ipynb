{
 "cells": [
  {
   "cell_type": "markdown",
   "metadata": {},
   "source": [
    "### Taller en casa\n",
    "\n",
    "El estudiante debe descargar el archivo del siguiente enlace y realizar el respectivo análisis haciendo uso de los modelos lineales: https://www.dropbox.com/s/vv0f1k2y5nalpgx/bank-additional-full.csv?dl=0\n",
    "\n",
    "Los datos están relacionados con las campañas de marketing directo de una institución bancaria portuguesa. Las campañas de marketing se basaron en llamadas telefónicas. A menudo, se requería más de un contacto con el mismo cliente, para poder acceder si el producto (depósito bancario) estaba (\"sí\") o no (\"no\") suscrito.\n",
    "\n",
    "Las variables registradas son las siguientes:\n",
    "\n",
    "* `age` - edad\n",
    "* `job`- tipo de trabajo\n",
    "* `marital` - estado civil\n",
    "* `education` - nivel educativo\n",
    "* `default` - crédito en incumplimiento\n",
    "* `housing` - crédito de vivienda\n",
    "* `loan` - préstamos personal\n",
    "* `contact` - tipo de contacto realizado\n",
    "* `month` - mes en que se hizo el último contacto\n",
    "* `day_of_week` - último día de contacto de la semana\n",
    "* `duration` - duración del último contacto, en segundos\n",
    "* `campaign` - número de contactos realizados durante esta campaña y para este cliente\n",
    "* `pdays` - número de días que pasaron después de que el cliente fue contactado por última vez desde una campaña anterior (999 significa que el cliente no fue contactado previamente)\n",
    "* `previous`- número de contactos realizados antes de esta campaña y para este cliente\n",
    "* `poutcome` - resultado de la campaña de marketing anterior\n",
    "* `emp.var.rate`- tasa de variación del empleo - indicador trimestral\n",
    "* `cons.price.idx` - índice de precios al consumidor - indicador mensual\n",
    "* `cons.conf.idx` - índice de confianza del consumidor - indicador mensual\n",
    "* `euribor3m` - euribor tasa de 3 meses - indicador diario\n",
    "* `nr.employed` - número de empleados\n",
    "* `y` - ¿el cliente ha suscrito un depósito a plazo?\n",
    "\n",
    "Los datos fueron tomados de:\n",
    "S. Moro, R. Laureano and P. Cortez. Using Data Mining for Bank Direct Marketing: An Application of the CRISP-DM Methodology. \n",
    "  In P. Novais et al. (Eds.), Proceedings of the European Simulation and Modelling Conference - ESM'2011, pp. 117-121, Guimarães, Portugal, October, 2011. EUROSIS."
   ]
  },
  {
   "cell_type": "markdown",
   "metadata": {},
   "source": [
    "<H5> las librerias necesarias </H5>"
   ]
  },
  {
   "cell_type": "code",
   "execution_count": 1,
   "metadata": {},
   "outputs": [
    {
     "name": "stderr",
     "output_type": "stream",
     "text": [
      "Warning message:\n",
      "\"package 'readr' was built under R version 4.0.2\"\n"
     ]
    }
   ],
   "source": [
    "library(\"readr\")#leer la base de datos\n",
    "library(\"ggplot2\")#para graficar \n",
    "library(\"dplyr\")#usar select"
   ]
  },
  {
   "cell_type": "code",
   "execution_count": 2,
   "metadata": {
    "scrolled": true
   },
   "outputs": [
    {
     "data": {
      "text/html": [
       "<table>\n",
       "<caption>A data.frame: 6 × 21</caption>\n",
       "<thead>\n",
       "\t<tr><th></th><th scope=col>age</th><th scope=col>job</th><th scope=col>marital</th><th scope=col>education</th><th scope=col>default</th><th scope=col>housing</th><th scope=col>loan</th><th scope=col>contact</th><th scope=col>month</th><th scope=col>day_of_week</th><th scope=col>...</th><th scope=col>campaign</th><th scope=col>pdays</th><th scope=col>previous</th><th scope=col>poutcome</th><th scope=col>emp.var.rate</th><th scope=col>cons.price.idx</th><th scope=col>cons.conf.idx</th><th scope=col>euribor3m</th><th scope=col>nr.employed</th><th scope=col>y</th></tr>\n",
       "\t<tr><th></th><th scope=col>&lt;int&gt;</th><th scope=col>&lt;chr&gt;</th><th scope=col>&lt;chr&gt;</th><th scope=col>&lt;chr&gt;</th><th scope=col>&lt;chr&gt;</th><th scope=col>&lt;chr&gt;</th><th scope=col>&lt;chr&gt;</th><th scope=col>&lt;chr&gt;</th><th scope=col>&lt;chr&gt;</th><th scope=col>&lt;chr&gt;</th><th scope=col>...</th><th scope=col>&lt;int&gt;</th><th scope=col>&lt;int&gt;</th><th scope=col>&lt;int&gt;</th><th scope=col>&lt;chr&gt;</th><th scope=col>&lt;dbl&gt;</th><th scope=col>&lt;dbl&gt;</th><th scope=col>&lt;dbl&gt;</th><th scope=col>&lt;dbl&gt;</th><th scope=col>&lt;dbl&gt;</th><th scope=col>&lt;chr&gt;</th></tr>\n",
       "</thead>\n",
       "<tbody>\n",
       "\t<tr><th scope=row>1</th><td>56</td><td>housemaid</td><td>married</td><td>basic.4y   </td><td>no     </td><td>no </td><td>no </td><td>telephone</td><td>may</td><td>mon</td><td>...</td><td>1</td><td>999</td><td>0</td><td>nonexistent</td><td>1.1</td><td>93.994</td><td>-36.4</td><td>4.857</td><td>5191</td><td>no</td></tr>\n",
       "\t<tr><th scope=row>2</th><td>57</td><td>services </td><td>married</td><td>high.school</td><td>unknown</td><td>no </td><td>no </td><td>telephone</td><td>may</td><td>mon</td><td>...</td><td>1</td><td>999</td><td>0</td><td>nonexistent</td><td>1.1</td><td>93.994</td><td>-36.4</td><td>4.857</td><td>5191</td><td>no</td></tr>\n",
       "\t<tr><th scope=row>3</th><td>37</td><td>services </td><td>married</td><td>high.school</td><td>no     </td><td>yes</td><td>no </td><td>telephone</td><td>may</td><td>mon</td><td>...</td><td>1</td><td>999</td><td>0</td><td>nonexistent</td><td>1.1</td><td>93.994</td><td>-36.4</td><td>4.857</td><td>5191</td><td>no</td></tr>\n",
       "\t<tr><th scope=row>4</th><td>40</td><td>admin.   </td><td>married</td><td>basic.6y   </td><td>no     </td><td>no </td><td>no </td><td>telephone</td><td>may</td><td>mon</td><td>...</td><td>1</td><td>999</td><td>0</td><td>nonexistent</td><td>1.1</td><td>93.994</td><td>-36.4</td><td>4.857</td><td>5191</td><td>no</td></tr>\n",
       "\t<tr><th scope=row>5</th><td>56</td><td>services </td><td>married</td><td>high.school</td><td>no     </td><td>no </td><td>yes</td><td>telephone</td><td>may</td><td>mon</td><td>...</td><td>1</td><td>999</td><td>0</td><td>nonexistent</td><td>1.1</td><td>93.994</td><td>-36.4</td><td>4.857</td><td>5191</td><td>no</td></tr>\n",
       "\t<tr><th scope=row>6</th><td>45</td><td>services </td><td>married</td><td>basic.9y   </td><td>unknown</td><td>no </td><td>no </td><td>telephone</td><td>may</td><td>mon</td><td>...</td><td>1</td><td>999</td><td>0</td><td>nonexistent</td><td>1.1</td><td>93.994</td><td>-36.4</td><td>4.857</td><td>5191</td><td>no</td></tr>\n",
       "</tbody>\n",
       "</table>\n"
      ],
      "text/latex": [
       "A data.frame: 6 × 21\n",
       "\\begin{tabular}{r|lllllllllllllllllllll}\n",
       "  & age & job & marital & education & default & housing & loan & contact & month & day\\_of\\_week & ... & campaign & pdays & previous & poutcome & emp.var.rate & cons.price.idx & cons.conf.idx & euribor3m & nr.employed & y\\\\\n",
       "  & <int> & <chr> & <chr> & <chr> & <chr> & <chr> & <chr> & <chr> & <chr> & <chr> & ... & <int> & <int> & <int> & <chr> & <dbl> & <dbl> & <dbl> & <dbl> & <dbl> & <chr>\\\\\n",
       "\\hline\n",
       "\t1 & 56 & housemaid & married & basic.4y    & no      & no  & no  & telephone & may & mon & ... & 1 & 999 & 0 & nonexistent & 1.1 & 93.994 & -36.4 & 4.857 & 5191 & no\\\\\n",
       "\t2 & 57 & services  & married & high.school & unknown & no  & no  & telephone & may & mon & ... & 1 & 999 & 0 & nonexistent & 1.1 & 93.994 & -36.4 & 4.857 & 5191 & no\\\\\n",
       "\t3 & 37 & services  & married & high.school & no      & yes & no  & telephone & may & mon & ... & 1 & 999 & 0 & nonexistent & 1.1 & 93.994 & -36.4 & 4.857 & 5191 & no\\\\\n",
       "\t4 & 40 & admin.    & married & basic.6y    & no      & no  & no  & telephone & may & mon & ... & 1 & 999 & 0 & nonexistent & 1.1 & 93.994 & -36.4 & 4.857 & 5191 & no\\\\\n",
       "\t5 & 56 & services  & married & high.school & no      & no  & yes & telephone & may & mon & ... & 1 & 999 & 0 & nonexistent & 1.1 & 93.994 & -36.4 & 4.857 & 5191 & no\\\\\n",
       "\t6 & 45 & services  & married & basic.9y    & unknown & no  & no  & telephone & may & mon & ... & 1 & 999 & 0 & nonexistent & 1.1 & 93.994 & -36.4 & 4.857 & 5191 & no\\\\\n",
       "\\end{tabular}\n"
      ],
      "text/markdown": [
       "\n",
       "A data.frame: 6 × 21\n",
       "\n",
       "| <!--/--> | age &lt;int&gt; | job &lt;chr&gt; | marital &lt;chr&gt; | education &lt;chr&gt; | default &lt;chr&gt; | housing &lt;chr&gt; | loan &lt;chr&gt; | contact &lt;chr&gt; | month &lt;chr&gt; | day_of_week &lt;chr&gt; | ... ... | campaign &lt;int&gt; | pdays &lt;int&gt; | previous &lt;int&gt; | poutcome &lt;chr&gt; | emp.var.rate &lt;dbl&gt; | cons.price.idx &lt;dbl&gt; | cons.conf.idx &lt;dbl&gt; | euribor3m &lt;dbl&gt; | nr.employed &lt;dbl&gt; | y &lt;chr&gt; |\n",
       "|---|---|---|---|---|---|---|---|---|---|---|---|---|---|---|---|---|---|---|---|---|---|\n",
       "| 1 | 56 | housemaid | married | basic.4y    | no      | no  | no  | telephone | may | mon | ... | 1 | 999 | 0 | nonexistent | 1.1 | 93.994 | -36.4 | 4.857 | 5191 | no |\n",
       "| 2 | 57 | services  | married | high.school | unknown | no  | no  | telephone | may | mon | ... | 1 | 999 | 0 | nonexistent | 1.1 | 93.994 | -36.4 | 4.857 | 5191 | no |\n",
       "| 3 | 37 | services  | married | high.school | no      | yes | no  | telephone | may | mon | ... | 1 | 999 | 0 | nonexistent | 1.1 | 93.994 | -36.4 | 4.857 | 5191 | no |\n",
       "| 4 | 40 | admin.    | married | basic.6y    | no      | no  | no  | telephone | may | mon | ... | 1 | 999 | 0 | nonexistent | 1.1 | 93.994 | -36.4 | 4.857 | 5191 | no |\n",
       "| 5 | 56 | services  | married | high.school | no      | no  | yes | telephone | may | mon | ... | 1 | 999 | 0 | nonexistent | 1.1 | 93.994 | -36.4 | 4.857 | 5191 | no |\n",
       "| 6 | 45 | services  | married | basic.9y    | unknown | no  | no  | telephone | may | mon | ... | 1 | 999 | 0 | nonexistent | 1.1 | 93.994 | -36.4 | 4.857 | 5191 | no |\n",
       "\n"
      ],
      "text/plain": [
       "  age job       marital education   default housing loan contact   month\n",
       "1 56  housemaid married basic.4y    no      no      no   telephone may  \n",
       "2 57  services  married high.school unknown no      no   telephone may  \n",
       "3 37  services  married high.school no      yes     no   telephone may  \n",
       "4 40  admin.    married basic.6y    no      no      no   telephone may  \n",
       "5 56  services  married high.school no      no      yes  telephone may  \n",
       "6 45  services  married basic.9y    unknown no      no   telephone may  \n",
       "  day_of_week ... campaign pdays previous poutcome    emp.var.rate\n",
       "1 mon         ... 1        999   0        nonexistent 1.1         \n",
       "2 mon         ... 1        999   0        nonexistent 1.1         \n",
       "3 mon         ... 1        999   0        nonexistent 1.1         \n",
       "4 mon         ... 1        999   0        nonexistent 1.1         \n",
       "5 mon         ... 1        999   0        nonexistent 1.1         \n",
       "6 mon         ... 1        999   0        nonexistent 1.1         \n",
       "  cons.price.idx cons.conf.idx euribor3m nr.employed y \n",
       "1 93.994         -36.4         4.857     5191        no\n",
       "2 93.994         -36.4         4.857     5191        no\n",
       "3 93.994         -36.4         4.857     5191        no\n",
       "4 93.994         -36.4         4.857     5191        no\n",
       "5 93.994         -36.4         4.857     5191        no\n",
       "6 93.994         -36.4         4.857     5191        no"
      ]
     },
     "metadata": {},
     "output_type": "display_data"
    }
   ],
   "source": [
    "# Importamos los datos:\n",
    "datos<-read.csv2('bank-additional-full.csv', sep=\";\", dec=\".\")\n",
    "head(datos)"
   ]
  },
  {
   "cell_type": "code",
   "execution_count": 4,
   "metadata": {},
   "outputs": [
    {
     "data": {
      "text/html": [
       "<table>\n",
       "<caption>A data.frame: 6 × 9</caption>\n",
       "<thead>\n",
       "\t<tr><th></th><th scope=col>año</th><th scope=col>nivel</th><th scope=col>dias</th><th scope=col>contactos</th><th scope=col>tasa</th><th scope=col>indiceP</th><th scope=col>indiceC</th><th scope=col>euribor</th><th scope=col>Ne</th></tr>\n",
       "\t<tr><th></th><th scope=col>&lt;int&gt;</th><th scope=col>&lt;int&gt;</th><th scope=col>&lt;int&gt;</th><th scope=col>&lt;int&gt;</th><th scope=col>&lt;dbl&gt;</th><th scope=col>&lt;dbl&gt;</th><th scope=col>&lt;dbl&gt;</th><th scope=col>&lt;dbl&gt;</th><th scope=col>&lt;dbl&gt;</th></tr>\n",
       "</thead>\n",
       "<tbody>\n",
       "\t<tr><th scope=row>1</th><td>56</td><td>261</td><td>999</td><td>1</td><td>1.1</td><td>93.994</td><td>-36.4</td><td>4.857</td><td>5191</td></tr>\n",
       "\t<tr><th scope=row>2</th><td>57</td><td>149</td><td>999</td><td>1</td><td>1.1</td><td>93.994</td><td>-36.4</td><td>4.857</td><td>5191</td></tr>\n",
       "\t<tr><th scope=row>3</th><td>37</td><td>226</td><td>999</td><td>1</td><td>1.1</td><td>93.994</td><td>-36.4</td><td>4.857</td><td>5191</td></tr>\n",
       "\t<tr><th scope=row>4</th><td>40</td><td>151</td><td>999</td><td>1</td><td>1.1</td><td>93.994</td><td>-36.4</td><td>4.857</td><td>5191</td></tr>\n",
       "\t<tr><th scope=row>5</th><td>56</td><td>307</td><td>999</td><td>1</td><td>1.1</td><td>93.994</td><td>-36.4</td><td>4.857</td><td>5191</td></tr>\n",
       "\t<tr><th scope=row>6</th><td>45</td><td>198</td><td>999</td><td>1</td><td>1.1</td><td>93.994</td><td>-36.4</td><td>4.857</td><td>5191</td></tr>\n",
       "</tbody>\n",
       "</table>\n"
      ],
      "text/latex": [
       "A data.frame: 6 × 9\n",
       "\\begin{tabular}{r|lllllllll}\n",
       "  & año & nivel & dias & contactos & tasa & indiceP & indiceC & euribor & Ne\\\\\n",
       "  & <int> & <int> & <int> & <int> & <dbl> & <dbl> & <dbl> & <dbl> & <dbl>\\\\\n",
       "\\hline\n",
       "\t1 & 56 & 261 & 999 & 1 & 1.1 & 93.994 & -36.4 & 4.857 & 5191\\\\\n",
       "\t2 & 57 & 149 & 999 & 1 & 1.1 & 93.994 & -36.4 & 4.857 & 5191\\\\\n",
       "\t3 & 37 & 226 & 999 & 1 & 1.1 & 93.994 & -36.4 & 4.857 & 5191\\\\\n",
       "\t4 & 40 & 151 & 999 & 1 & 1.1 & 93.994 & -36.4 & 4.857 & 5191\\\\\n",
       "\t5 & 56 & 307 & 999 & 1 & 1.1 & 93.994 & -36.4 & 4.857 & 5191\\\\\n",
       "\t6 & 45 & 198 & 999 & 1 & 1.1 & 93.994 & -36.4 & 4.857 & 5191\\\\\n",
       "\\end{tabular}\n"
      ],
      "text/markdown": [
       "\n",
       "A data.frame: 6 × 9\n",
       "\n",
       "| <!--/--> | año &lt;int&gt; | nivel &lt;int&gt; | dias &lt;int&gt; | contactos &lt;int&gt; | tasa &lt;dbl&gt; | indiceP &lt;dbl&gt; | indiceC &lt;dbl&gt; | euribor &lt;dbl&gt; | Ne &lt;dbl&gt; |\n",
       "|---|---|---|---|---|---|---|---|---|---|\n",
       "| 1 | 56 | 261 | 999 | 1 | 1.1 | 93.994 | -36.4 | 4.857 | 5191 |\n",
       "| 2 | 57 | 149 | 999 | 1 | 1.1 | 93.994 | -36.4 | 4.857 | 5191 |\n",
       "| 3 | 37 | 226 | 999 | 1 | 1.1 | 93.994 | -36.4 | 4.857 | 5191 |\n",
       "| 4 | 40 | 151 | 999 | 1 | 1.1 | 93.994 | -36.4 | 4.857 | 5191 |\n",
       "| 5 | 56 | 307 | 999 | 1 | 1.1 | 93.994 | -36.4 | 4.857 | 5191 |\n",
       "| 6 | 45 | 198 | 999 | 1 | 1.1 | 93.994 | -36.4 | 4.857 | 5191 |\n",
       "\n"
      ],
      "text/plain": [
       "  año nivel dias contactos tasa indiceP indiceC euribor Ne  \n",
       "1 56  261   999  1         1.1  93.994  -36.4   4.857   5191\n",
       "2 57  149   999  1         1.1  93.994  -36.4   4.857   5191\n",
       "3 37  226   999  1         1.1  93.994  -36.4   4.857   5191\n",
       "4 40  151   999  1         1.1  93.994  -36.4   4.857   5191\n",
       "5 56  307   999  1         1.1  93.994  -36.4   4.857   5191\n",
       "6 45  198   999  1         1.1  93.994  -36.4   4.857   5191"
      ]
     },
     "metadata": {},
     "output_type": "display_data"
    }
   ],
   "source": [
    "conti<- select(datos,año=age,nivel=duration,dias=pdays,contactos=campaign,tasa=emp.var.rate,indiceP=cons.price.idx,\n",
    "               indiceC=cons.conf.idx,euribor=euribor3m, Ne=nr.employed)\n",
    "head(conti)"
   ]
  },
  {
   "cell_type": "code",
   "execution_count": 5,
   "metadata": {},
   "outputs": [
    {
     "data": {
      "text/html": [
       "<table>\n",
       "<caption>A matrix: 9 × 9 of type dbl</caption>\n",
       "<thead>\n",
       "\t<tr><th></th><th scope=col>año</th><th scope=col>nivel</th><th scope=col>dias</th><th scope=col>contactos</th><th scope=col>tasa</th><th scope=col>indiceP</th><th scope=col>indiceC</th><th scope=col>euribor</th><th scope=col>Ne</th></tr>\n",
       "</thead>\n",
       "<tbody>\n",
       "\t<tr><th scope=row>año</th><td> 1.0000000000</td><td>-0.000865705</td><td>-0.03436895</td><td> 0.00459358</td><td>-0.0003706855</td><td>0.000856715</td><td> 0.129371614</td><td> 0.01076743</td><td>-0.01772513</td></tr>\n",
       "\t<tr><th scope=row>nivel</th><td>-0.0008657050</td><td> 1.000000000</td><td>-0.04757702</td><td>-0.07169923</td><td>-0.0279678845</td><td>0.005312268</td><td>-0.008172873</td><td>-0.03289666</td><td>-0.04470322</td></tr>\n",
       "\t<tr><th scope=row>dias</th><td>-0.0343689512</td><td>-0.047577015</td><td> 1.00000000</td><td> 0.05258357</td><td> 0.2710041743</td><td>0.078889109</td><td>-0.091342354</td><td> 0.29689911</td><td> 0.37260474</td></tr>\n",
       "\t<tr><th scope=row>contactos</th><td> 0.0045935805</td><td>-0.071699226</td><td> 0.05258357</td><td> 1.00000000</td><td> 0.1507538056</td><td>0.127835912</td><td>-0.013733099</td><td> 0.13513251</td><td> 0.14409489</td></tr>\n",
       "\t<tr><th scope=row>tasa</th><td>-0.0003706855</td><td>-0.027967884</td><td> 0.27100417</td><td> 0.15075381</td><td> 1.0000000000</td><td>0.775334171</td><td> 0.196041268</td><td> 0.97224467</td><td> 0.90697010</td></tr>\n",
       "\t<tr><th scope=row>indiceP</th><td> 0.0008567150</td><td> 0.005312268</td><td> 0.07888911</td><td> 0.12783591</td><td> 0.7753341708</td><td>1.000000000</td><td> 0.058986182</td><td> 0.68823011</td><td> 0.52203398</td></tr>\n",
       "\t<tr><th scope=row>indiceC</th><td> 0.1293716142</td><td>-0.008172873</td><td>-0.09134235</td><td>-0.01373310</td><td> 0.1960412681</td><td>0.058986182</td><td> 1.000000000</td><td> 0.27768622</td><td> 0.10051343</td></tr>\n",
       "\t<tr><th scope=row>euribor</th><td> 0.0107674295</td><td>-0.032896656</td><td> 0.29689911</td><td> 0.13513251</td><td> 0.9722446712</td><td>0.688230107</td><td> 0.277686220</td><td> 1.00000000</td><td> 0.94515443</td></tr>\n",
       "\t<tr><th scope=row>Ne</th><td>-0.0177251319</td><td>-0.044703223</td><td> 0.37260474</td><td> 0.14409489</td><td> 0.9069701013</td><td>0.522033977</td><td> 0.100513432</td><td> 0.94515443</td><td> 1.00000000</td></tr>\n",
       "</tbody>\n",
       "</table>\n"
      ],
      "text/latex": [
       "A matrix: 9 × 9 of type dbl\n",
       "\\begin{tabular}{r|lllllllll}\n",
       "  & año & nivel & dias & contactos & tasa & indiceP & indiceC & euribor & Ne\\\\\n",
       "\\hline\n",
       "\taño &  1.0000000000 & -0.000865705 & -0.03436895 &  0.00459358 & -0.0003706855 & 0.000856715 &  0.129371614 &  0.01076743 & -0.01772513\\\\\n",
       "\tnivel & -0.0008657050 &  1.000000000 & -0.04757702 & -0.07169923 & -0.0279678845 & 0.005312268 & -0.008172873 & -0.03289666 & -0.04470322\\\\\n",
       "\tdias & -0.0343689512 & -0.047577015 &  1.00000000 &  0.05258357 &  0.2710041743 & 0.078889109 & -0.091342354 &  0.29689911 &  0.37260474\\\\\n",
       "\tcontactos &  0.0045935805 & -0.071699226 &  0.05258357 &  1.00000000 &  0.1507538056 & 0.127835912 & -0.013733099 &  0.13513251 &  0.14409489\\\\\n",
       "\ttasa & -0.0003706855 & -0.027967884 &  0.27100417 &  0.15075381 &  1.0000000000 & 0.775334171 &  0.196041268 &  0.97224467 &  0.90697010\\\\\n",
       "\tindiceP &  0.0008567150 &  0.005312268 &  0.07888911 &  0.12783591 &  0.7753341708 & 1.000000000 &  0.058986182 &  0.68823011 &  0.52203398\\\\\n",
       "\tindiceC &  0.1293716142 & -0.008172873 & -0.09134235 & -0.01373310 &  0.1960412681 & 0.058986182 &  1.000000000 &  0.27768622 &  0.10051343\\\\\n",
       "\teuribor &  0.0107674295 & -0.032896656 &  0.29689911 &  0.13513251 &  0.9722446712 & 0.688230107 &  0.277686220 &  1.00000000 &  0.94515443\\\\\n",
       "\tNe & -0.0177251319 & -0.044703223 &  0.37260474 &  0.14409489 &  0.9069701013 & 0.522033977 &  0.100513432 &  0.94515443 &  1.00000000\\\\\n",
       "\\end{tabular}\n"
      ],
      "text/markdown": [
       "\n",
       "A matrix: 9 × 9 of type dbl\n",
       "\n",
       "| <!--/--> | año | nivel | dias | contactos | tasa | indiceP | indiceC | euribor | Ne |\n",
       "|---|---|---|---|---|---|---|---|---|---|\n",
       "| año |  1.0000000000 | -0.000865705 | -0.03436895 |  0.00459358 | -0.0003706855 | 0.000856715 |  0.129371614 |  0.01076743 | -0.01772513 |\n",
       "| nivel | -0.0008657050 |  1.000000000 | -0.04757702 | -0.07169923 | -0.0279678845 | 0.005312268 | -0.008172873 | -0.03289666 | -0.04470322 |\n",
       "| dias | -0.0343689512 | -0.047577015 |  1.00000000 |  0.05258357 |  0.2710041743 | 0.078889109 | -0.091342354 |  0.29689911 |  0.37260474 |\n",
       "| contactos |  0.0045935805 | -0.071699226 |  0.05258357 |  1.00000000 |  0.1507538056 | 0.127835912 | -0.013733099 |  0.13513251 |  0.14409489 |\n",
       "| tasa | -0.0003706855 | -0.027967884 |  0.27100417 |  0.15075381 |  1.0000000000 | 0.775334171 |  0.196041268 |  0.97224467 |  0.90697010 |\n",
       "| indiceP |  0.0008567150 |  0.005312268 |  0.07888911 |  0.12783591 |  0.7753341708 | 1.000000000 |  0.058986182 |  0.68823011 |  0.52203398 |\n",
       "| indiceC |  0.1293716142 | -0.008172873 | -0.09134235 | -0.01373310 |  0.1960412681 | 0.058986182 |  1.000000000 |  0.27768622 |  0.10051343 |\n",
       "| euribor |  0.0107674295 | -0.032896656 |  0.29689911 |  0.13513251 |  0.9722446712 | 0.688230107 |  0.277686220 |  1.00000000 |  0.94515443 |\n",
       "| Ne | -0.0177251319 | -0.044703223 |  0.37260474 |  0.14409489 |  0.9069701013 | 0.522033977 |  0.100513432 |  0.94515443 |  1.00000000 |\n",
       "\n"
      ],
      "text/plain": [
       "          año           nivel        dias        contactos   tasa         \n",
       "año        1.0000000000 -0.000865705 -0.03436895  0.00459358 -0.0003706855\n",
       "nivel     -0.0008657050  1.000000000 -0.04757702 -0.07169923 -0.0279678845\n",
       "dias      -0.0343689512 -0.047577015  1.00000000  0.05258357  0.2710041743\n",
       "contactos  0.0045935805 -0.071699226  0.05258357  1.00000000  0.1507538056\n",
       "tasa      -0.0003706855 -0.027967884  0.27100417  0.15075381  1.0000000000\n",
       "indiceP    0.0008567150  0.005312268  0.07888911  0.12783591  0.7753341708\n",
       "indiceC    0.1293716142 -0.008172873 -0.09134235 -0.01373310  0.1960412681\n",
       "euribor    0.0107674295 -0.032896656  0.29689911  0.13513251  0.9722446712\n",
       "Ne        -0.0177251319 -0.044703223  0.37260474  0.14409489  0.9069701013\n",
       "          indiceP     indiceC      euribor     Ne         \n",
       "año       0.000856715  0.129371614  0.01076743 -0.01772513\n",
       "nivel     0.005312268 -0.008172873 -0.03289666 -0.04470322\n",
       "dias      0.078889109 -0.091342354  0.29689911  0.37260474\n",
       "contactos 0.127835912 -0.013733099  0.13513251  0.14409489\n",
       "tasa      0.775334171  0.196041268  0.97224467  0.90697010\n",
       "indiceP   1.000000000  0.058986182  0.68823011  0.52203398\n",
       "indiceC   0.058986182  1.000000000  0.27768622  0.10051343\n",
       "euribor   0.688230107  0.277686220  1.00000000  0.94515443\n",
       "Ne        0.522033977  0.100513432  0.94515443  1.00000000"
      ]
     },
     "metadata": {},
     "output_type": "display_data"
    }
   ],
   "source": [
    "cor(conti)"
   ]
  },
  {
   "cell_type": "code",
   "execution_count": 6,
   "metadata": {},
   "outputs": [
    {
     "data": {
      "text/plain": [
       "      año            nivel             dias         contactos     \n",
       " Min.   :17.00   Min.   :   0.0   Min.   :  0.0   Min.   : 1.000  \n",
       " 1st Qu.:32.00   1st Qu.: 102.0   1st Qu.:999.0   1st Qu.: 1.000  \n",
       " Median :38.00   Median : 180.0   Median :999.0   Median : 2.000  \n",
       " Mean   :40.02   Mean   : 258.3   Mean   :962.5   Mean   : 2.568  \n",
       " 3rd Qu.:47.00   3rd Qu.: 319.0   3rd Qu.:999.0   3rd Qu.: 3.000  \n",
       " Max.   :98.00   Max.   :4918.0   Max.   :999.0   Max.   :56.000  \n",
       "      tasa             indiceP         indiceC         euribor     \n",
       " Min.   :-3.40000   Min.   :92.20   Min.   :-50.8   Min.   :0.634  \n",
       " 1st Qu.:-1.80000   1st Qu.:93.08   1st Qu.:-42.7   1st Qu.:1.344  \n",
       " Median : 1.10000   Median :93.75   Median :-41.8   Median :4.857  \n",
       " Mean   : 0.08189   Mean   :93.58   Mean   :-40.5   Mean   :3.621  \n",
       " 3rd Qu.: 1.40000   3rd Qu.:93.99   3rd Qu.:-36.4   3rd Qu.:4.961  \n",
       " Max.   : 1.40000   Max.   :94.77   Max.   :-26.9   Max.   :5.045  \n",
       "       Ne      \n",
       " Min.   :4964  \n",
       " 1st Qu.:5099  \n",
       " Median :5191  \n",
       " Mean   :5167  \n",
       " 3rd Qu.:5228  \n",
       " Max.   :5228  "
      ]
     },
     "metadata": {},
     "output_type": "display_data"
    }
   ],
   "source": [
    "summary(conti)\n"
   ]
  },
  {
   "cell_type": "code",
   "execution_count": null,
   "metadata": {},
   "outputs": [],
   "source": [
    "pairs(conti)"
   ]
  },
  {
   "cell_type": "markdown",
   "metadata": {},
   "source": [
    "<H1>Generacion del modelo lineal </H1>"
   ]
  },
  {
   "cell_type": "markdown",
   "metadata": {},
   "source": [
    "<H4>1. Modelo lineal multiple </H4>"
   ]
  },
  {
   "cell_type": "markdown",
   "metadata": {},
   "source": [
    "Vamos a generar el modelo con todos los predictores de \"Conti\", tomando como variable independiente de nuestro modelo a tasa de variacion de empleo (\"tasa\")."
   ]
  },
  {
   "cell_type": "code",
   "execution_count": 56,
   "metadata": {},
   "outputs": [
    {
     "data": {
      "text/plain": [
       "\n",
       "Call:\n",
       "lm(formula = tasa ~ ., data = conti)\n",
       "\n",
       "Residuals:\n",
       "     Min       1Q   Median       3Q      Max \n",
       "-1.31528 -0.13576 -0.02173  0.15430  0.79916 \n",
       "\n",
       "Coefficients:\n",
       "              Estimate Std. Error t value Pr(>|t|)    \n",
       "(Intercept) -7.057e+01  9.119e-01 -77.387  < 2e-16 ***\n",
       "año         -4.276e-04  1.305e-04  -3.278  0.00105 ** \n",
       "nivel       -1.454e-06  5.219e-06  -0.279  0.78049    \n",
       "dias        -5.233e-05  7.933e-06  -6.596 4.28e-11 ***\n",
       "contactos    4.906e-03  4.950e-04   9.911  < 2e-16 ***\n",
       "indiceP      5.942e-01  5.070e-03 117.191  < 2e-16 ***\n",
       "indiceC     -1.013e-02  4.699e-04 -21.562  < 2e-16 ***\n",
       "euribor      6.585e-01  5.319e-03 123.804  < 2e-16 ***\n",
       "Ne           2.382e-03  1.036e-04  22.981  < 2e-16 ***\n",
       "---\n",
       "Signif. codes:  0 '***' 0.001 '**' 0.01 '*' 0.05 '.' 0.1 ' ' 1\n",
       "\n",
       "Residual standard error: 0.2734 on 41179 degrees of freedom\n",
       "Multiple R-squared:  0.9697,\tAdjusted R-squared:  0.9697 \n",
       "F-statistic: 1.648e+05 on 8 and 41179 DF,  p-value: < 2.2e-16\n"
      ]
     },
     "metadata": {},
     "output_type": "display_data"
    }
   ],
   "source": [
    "modeloMultiple <- lm(tasa ~ . , data = conti)\n",
    "summary(modeloMultiple)"
   ]
  },
  {
   "cell_type": "markdown",
   "metadata": {},
   "source": [
    "Podemos decir que el modelo es capaz de explicar un 96,97 % de la varianza y que el p-value es significativo (2.2*10^-16), por lo que podemos decir que el modelo es útil y que existe una relación entre los predictores y la variable respuesta (al menos uno de los coeficientes es distinto a 0)"
   ]
  },
  {
   "cell_type": "markdown",
   "metadata": {},
   "source": [
    "ahora seleccionaremos el predictor del modelo con la funcionstep():"
   ]
  },
  {
   "cell_type": "code",
   "execution_count": 57,
   "metadata": {},
   "outputs": [
    {
     "name": "stdout",
     "output_type": "stream",
     "text": [
      "Start:  AIC=-106817.7\n",
      "tasa ~ año + nivel + dias + contactos + indiceP + indiceC + euribor + \n",
      "    Ne\n",
      "\n",
      "            Df Sum of Sq    RSS     AIC\n",
      "- nivel      1      0.01 3078.0 -106820\n",
      "<none>                   3078.0 -106818\n",
      "- año        1      0.80 3078.8 -106809\n",
      "- dias       1      3.25 3081.3 -106776\n",
      "- contactos  1      7.34 3085.4 -106722\n",
      "- indiceC    1     34.75 3112.8 -106357\n",
      "- Ne         1     39.48 3117.5 -106295\n",
      "- indiceP    1   1026.56 4104.6  -94965\n",
      "- euribor    1   1145.70 4223.7  -93787\n",
      "\n",
      "Step:  AIC=-106819.6\n",
      "tasa ~ año + dias + contactos + indiceP + indiceC + euribor + \n",
      "    Ne\n",
      "\n",
      "            Df Sum of Sq    RSS     AIC\n",
      "<none>                   3078.0 -106820\n",
      "+ nivel      1      0.01 3078.0 -106818\n",
      "- año        1      0.80 3078.8 -106811\n",
      "- dias       1      3.25 3081.3 -106778\n",
      "- contactos  1      7.40 3085.4 -106723\n",
      "- indiceC    1     34.75 3112.8 -106359\n",
      "- Ne         1     39.51 3117.6 -106296\n",
      "- indiceP    1   1026.59 4104.6  -94967\n",
      "- euribor    1   1145.79 4223.8  -93788\n"
     ]
    },
    {
     "data": {
      "text/plain": [
       "\n",
       "Call:\n",
       "lm(formula = tasa ~ año + dias + contactos + indiceP + indiceC + \n",
       "    euribor + Ne, data = conti)\n",
       "\n",
       "Coefficients:\n",
       "(Intercept)          año         dias    contactos      indiceP      indiceC  \n",
       " -7.057e+01   -4.276e-04   -5.226e-05    4.915e-03    5.942e-01   -1.013e-02  \n",
       "    euribor           Ne  \n",
       "  6.585e-01    2.382e-03  \n"
      ]
     },
     "metadata": {},
     "output_type": "display_data"
    }
   ],
   "source": [
    "step(modeloMultiple, direction = \"both\", trace = 1)"
   ]
  },
  {
   "cell_type": "markdown",
   "metadata": {},
   "source": [
    "Podemos notar que la variable con mayor p-value ha sido excluida del modelo, porque no ayudaba en gran medida en la variabilidad de \"y\""
   ]
  },
  {
   "cell_type": "code",
   "execution_count": 39,
   "metadata": {},
   "outputs": [
    {
     "data": {
      "text/plain": [
       "\n",
       "Call:\n",
       "lm(formula = tasa ~ año + dias + contactos + indiceP + indiceC + \n",
       "    euribor + Ne, data = conti)\n",
       "\n",
       "Residuals:\n",
       "    Min      1Q  Median      3Q     Max \n",
       "-1.3149 -0.1358 -0.0217  0.1544  0.7991 \n",
       "\n",
       "Coefficients:\n",
       "              Estimate Std. Error t value Pr(>|t|)    \n",
       "(Intercept) -7.057e+01  9.118e-01 -77.393  < 2e-16 ***\n",
       "año         -4.276e-04  1.305e-04  -3.278  0.00105 ** \n",
       "dias        -5.226e-05  7.930e-06  -6.591 4.43e-11 ***\n",
       "contactos    4.915e-03  4.938e-04   9.953  < 2e-16 ***\n",
       "indiceP      5.942e-01  5.070e-03 117.194  < 2e-16 ***\n",
       "indiceC     -1.013e-02  4.699e-04 -21.560  < 2e-16 ***\n",
       "euribor      6.585e-01  5.318e-03 123.811  < 2e-16 ***\n",
       "Ne           2.382e-03  1.036e-04  22.991  < 2e-16 ***\n",
       "---\n",
       "Signif. codes:  0 '***' 0.001 '**' 0.01 '*' 0.05 '.' 0.1 ' ' 1\n",
       "\n",
       "Residual standard error: 0.2734 on 41180 degrees of freedom\n",
       "Multiple R-squared:  0.9697,\tAdjusted R-squared:  0.9697 \n",
       "F-statistic: 1.884e+05 on 7 and 41180 DF,  p-value: < 2.2e-16\n"
      ]
     },
     "metadata": {},
     "output_type": "display_data"
    }
   ],
   "source": [
    "modeloMultiplestep <- update(modeloMultiple, formula = ~ . -nivel)\n",
    "summary(modeloMultiplestep )"
   ]
  },
  {
   "cell_type": "code",
   "execution_count": 40,
   "metadata": {},
   "outputs": [
    {
     "data": {
      "text/html": [
       "<table>\n",
       "<caption>A matrix: 8 × 2 of type dbl</caption>\n",
       "<thead>\n",
       "\t<tr><th></th><th scope=col>2.5 %</th><th scope=col>97.5 %</th></tr>\n",
       "</thead>\n",
       "<tbody>\n",
       "\t<tr><th scope=row>(Intercept)</th><td>-7.235721e+01</td><td>-6.878276e+01</td></tr>\n",
       "\t<tr><th scope=row>año</th><td>-6.832619e-04</td><td>-1.718828e-04</td></tr>\n",
       "\t<tr><th scope=row>dias</th><td>-6.780317e-05</td><td>-3.671908e-05</td></tr>\n",
       "\t<tr><th scope=row>contactos</th><td> 3.947015e-03</td><td> 5.882817e-03</td></tr>\n",
       "\t<tr><th scope=row>indiceP</th><td> 5.842581e-01</td><td> 6.041335e-01</td></tr>\n",
       "\t<tr><th scope=row>indiceC</th><td>-1.105158e-02</td><td>-9.209658e-03</td></tr>\n",
       "\t<tr><th scope=row>euribor</th><td> 6.480486e-01</td><td> 6.688968e-01</td></tr>\n",
       "\t<tr><th scope=row>Ne</th><td> 2.179226e-03</td><td> 2.585425e-03</td></tr>\n",
       "</tbody>\n",
       "</table>\n"
      ],
      "text/latex": [
       "A matrix: 8 × 2 of type dbl\n",
       "\\begin{tabular}{r|ll}\n",
       "  & 2.5 \\% & 97.5 \\%\\\\\n",
       "\\hline\n",
       "\t(Intercept) & -7.235721e+01 & -6.878276e+01\\\\\n",
       "\taño & -6.832619e-04 & -1.718828e-04\\\\\n",
       "\tdias & -6.780317e-05 & -3.671908e-05\\\\\n",
       "\tcontactos &  3.947015e-03 &  5.882817e-03\\\\\n",
       "\tindiceP &  5.842581e-01 &  6.041335e-01\\\\\n",
       "\tindiceC & -1.105158e-02 & -9.209658e-03\\\\\n",
       "\teuribor &  6.480486e-01 &  6.688968e-01\\\\\n",
       "\tNe &  2.179226e-03 &  2.585425e-03\\\\\n",
       "\\end{tabular}\n"
      ],
      "text/markdown": [
       "\n",
       "A matrix: 8 × 2 of type dbl\n",
       "\n",
       "| <!--/--> | 2.5 % | 97.5 % |\n",
       "|---|---|---|\n",
       "| (Intercept) | -7.235721e+01 | -6.878276e+01 |\n",
       "| año | -6.832619e-04 | -1.718828e-04 |\n",
       "| dias | -6.780317e-05 | -3.671908e-05 |\n",
       "| contactos |  3.947015e-03 |  5.882817e-03 |\n",
       "| indiceP |  5.842581e-01 |  6.041335e-01 |\n",
       "| indiceC | -1.105158e-02 | -9.209658e-03 |\n",
       "| euribor |  6.480486e-01 |  6.688968e-01 |\n",
       "| Ne |  2.179226e-03 |  2.585425e-03 |\n",
       "\n"
      ],
      "text/plain": [
       "            2.5 %         97.5 %       \n",
       "(Intercept) -7.235721e+01 -6.878276e+01\n",
       "año         -6.832619e-04 -1.718828e-04\n",
       "dias        -6.780317e-05 -3.671908e-05\n",
       "contactos    3.947015e-03  5.882817e-03\n",
       "indiceP      5.842581e-01  6.041335e-01\n",
       "indiceC     -1.105158e-02 -9.209658e-03\n",
       "euribor      6.480486e-01  6.688968e-01\n",
       "Ne           2.179226e-03  2.585425e-03"
      ]
     },
     "metadata": {},
     "output_type": "display_data"
    }
   ],
   "source": [
    "confint(modeloMultiplestep)"
   ]
  },
  {
   "cell_type": "markdown",
   "metadata": {},
   "source": [
    "veamos como se comporta el modelo"
   ]
  },
  {
   "cell_type": "code",
   "execution_count": 42,
   "metadata": {},
   "outputs": [
    {
     "data": {
      "image/png": "[encoded data removed]",
      "text/plain": [
       "Plot with title \"\""
      ]
     },
     "metadata": {
      "image/png": {
       "height": 420,
       "width": 420
      },
      "text/plain": {
       "height": 420,
       "width": 420
      }
     },
     "output_type": "display_data"
    }
   ],
   "source": [
    "par(mfrow=c(2,2))\n",
    "plot(modeloMultiplestep)"
   ]
  },
  {
   "cell_type": "markdown",
   "metadata": {},
   "source": [
    "<H4>2. Modelo lineal simple </H4>"
   ]
  },
  {
   "cell_type": "markdown",
   "metadata": {},
   "source": [
    "<H6>para indice de precio y tasa de empleo </H6>"
   ]
  },
  {
   "cell_type": "code",
   "execution_count": 7,
   "metadata": {},
   "outputs": [
    {
     "data": {
      "text/plain": [
       "      tasa             indiceP     \n",
       " Min.   :-3.40000   Min.   :92.20  \n",
       " 1st Qu.:-1.80000   1st Qu.:93.08  \n",
       " Median : 1.10000   Median :93.75  \n",
       " Mean   : 0.08189   Mean   :93.58  \n",
       " 3rd Qu.: 1.40000   3rd Qu.:93.99  \n",
       " Max.   : 1.40000   Max.   :94.77  "
      ]
     },
     "metadata": {},
     "output_type": "display_data"
    }
   ],
   "source": [
    "varsel<-conti[,c(5,6)]\n",
    "summary(varsel)"
   ]
  },
  {
   "cell_type": "code",
   "execution_count": 8,
   "metadata": {},
   "outputs": [
    {
     "data": {
      "image/png": "[encoded data removed]",
      "text/plain": [
       "Plot with title \"Dispersion Plot\""
      ]
     },
     "metadata": {
      "image/png": {
       "height": 420,
       "width": 420
      },
      "text/plain": {
       "height": 420,
       "width": 420
      }
     },
     "output_type": "display_data"
    }
   ],
   "source": [
    "# Algunos gráficos exploratorios\n",
    "par(mfrow=c(2,3))\n",
    "x <- varsel$indiceP\n",
    "boxplot(varsel, main=\"Boxplor for Species & Endemics\")\n",
    "h<-hist(x, breaks=25, col=\"red\", xlab=\"Species\", main=\"Histogram with \\n Density Curve\")\n",
    "xfit<-seq(min(x), max(x), length=40)\n",
    "yfit<-dnorm(xfit, mean=mean(x), sd=sd(x))\n",
    "yfit <- yfit*diff(h$mids[1:2])*length(x)\n",
    "lines(xfit, yfit, col=\"blue\", lwd=2)\n",
    "h<-hist(x, freq = F, breaks=25, col=\"red\", xlab=\"Species\", main=\"Histogram with \\n Normal Curve\")\n",
    "lines(density(x), col=\"blue\", lwd=2)\n",
    "plot(sort(x),ylab=\"Sorted Species\", main = \"Sorted Plot\")\n",
    "with(conti, plot(tasa,indiceP, main = \"Dispersion Plot\"))\n",
    "par(mfrow=c(1,1))"
   ]
  },
  {
   "cell_type": "markdown",
   "metadata": {},
   "source": [
    "generamos el modelo lineal por regresion simple:"
   ]
  },
  {
   "cell_type": "code",
   "execution_count": 9,
   "metadata": {
    "scrolled": true
   },
   "outputs": [
    {
     "data": {
      "text/plain": [
       "\n",
       "Call:\n",
       "lm(formula = indiceP ~ tasa, data = conti)\n",
       "\n",
       "Residuals:\n",
       "     Min       1Q   Median       3Q      Max \n",
       "-0.73913 -0.19504 -0.03423  0.12748  1.52898 \n",
       "\n",
       "Coefficients:\n",
       "             Estimate Std. Error t value Pr(>|t|)    \n",
       "(Intercept) 93.552271   0.001804 51865.4   <2e-16 ***\n",
       "tasa         0.285682   0.001147   249.1   <2e-16 ***\n",
       "---\n",
       "Signif. codes:  0 '***' 0.001 '**' 0.01 '*' 0.05 '.' 0.1 ' ' 1\n",
       "\n",
       "Residual standard error: 0.3656 on 41186 degrees of freedom\n",
       "Multiple R-squared:  0.6011,\tAdjusted R-squared:  0.6011 \n",
       "F-statistic: 6.207e+04 on 1 and 41186 DF,  p-value: < 2.2e-16\n"
      ]
     },
     "metadata": {},
     "output_type": "display_data"
    }
   ],
   "source": [
    "regresion <- lm(indiceP ~ tasa, data = conti)\n",
    "summary(regresion)"
   ]
  },
  {
   "cell_type": "markdown",
   "metadata": {},
   "source": [
    "Los parámetros de la ecuación de la recta de mínimos cuadrados que relaciona el indice de precios al consumidor en función de la tasa de variacion de empleo vienen dados por la columna ´Estimate´ de la tabla ´Coefficients´ de la salida anterior. Por lo tanto, en este ejemplo la ecuación de la recta de mínimos cuadrados es:\n",
    "\n",
    "<p style='text-align: center;'>$y=93.552271 +0.285682x$</p>"
   ]
  },
  {
   "cell_type": "code",
   "execution_count": 10,
   "metadata": {},
   "outputs": [
    {
     "data": {
      "image/png": "[encoded data removed]",
      "text/plain": [
       "plot without title"
      ]
     },
     "metadata": {
      "image/png": {
       "height": 420,
       "width": 420
      },
      "text/plain": {
       "height": 420,
       "width": 420
      }
     },
     "output_type": "display_data"
    }
   ],
   "source": [
    "plot(conti$tasa, conti$indiceP, xlab='tasa', ylab='indice de precio')\n",
    "abline(regresion)"
   ]
  },
  {
   "cell_type": "code",
   "execution_count": 11,
   "metadata": {},
   "outputs": [
    {
     "data": {
      "text/html": [
       "<style>\n",
       ".dl-inline {width: auto; margin:0; padding: 0}\n",
       ".dl-inline>dt, .dl-inline>dd {float: none; width: auto; display: inline-block}\n",
       ".dl-inline>dt::after {content: \":\\0020\"; padding-right: .5ex}\n",
       ".dl-inline>dt:not(:first-of-type) {padding-left: .5ex}\n",
       "</style><dl class=dl-inline><dt>1</dt><dd>92.6952260398457</dd><dt>2</dt><dd>92.9809077526402</dd><dt>3</dt><dd>93.2665894654346</dd><dt>4</dt><dd>93.5522711782291</dd><dt>5</dt><dd>93.8379528910236</dd></dl>\n"
      ],
      "text/latex": [
       "\\begin{description*}\n",
       "\\item[1] 92.6952260398457\n",
       "\\item[2] 92.9809077526402\n",
       "\\item[3] 93.2665894654346\n",
       "\\item[4] 93.5522711782291\n",
       "\\item[5] 93.8379528910236\n",
       "\\end{description*}\n"
      ],
      "text/markdown": [
       "1\n",
       ":   92.69522603984572\n",
       ":   92.98090775264023\n",
       ":   93.26658946543464\n",
       ":   93.55227117822915\n",
       ":   93.8379528910236\n",
       "\n"
      ],
      "text/plain": [
       "       1        2        3        4        5 \n",
       "92.69523 92.98091 93.26659 93.55227 93.83795 "
      ]
     },
     "metadata": {},
     "output_type": "display_data"
    }
   ],
   "source": [
    "indiceTasa <- data.frame(tasa= seq(-3, 1))\n",
    "predict(regresion, indiceTasa)"
   ]
  },
  {
   "cell_type": "markdown",
   "metadata": {},
   "source": [
    "Los intervalos de confianza para los parámetros los obtendremos con el comando confint. El parámetro level permite elegir el nivel de confianza (por defecto es 0.95)"
   ]
  },
  {
   "cell_type": "code",
   "execution_count": 12,
   "metadata": {},
   "outputs": [
    {
     "data": {
      "text/html": [
       "<table>\n",
       "<caption>A matrix: 2 × 2 of type dbl</caption>\n",
       "<thead>\n",
       "\t<tr><th></th><th scope=col>2.5 %</th><th scope=col>97.5 %</th></tr>\n",
       "</thead>\n",
       "<tbody>\n",
       "\t<tr><th scope=row>(Intercept)</th><td>93.5487358</td><td>93.5558066</td></tr>\n",
       "\t<tr><th scope=row>tasa</th><td> 0.2834343</td><td> 0.2879292</td></tr>\n",
       "</tbody>\n",
       "</table>\n"
      ],
      "text/latex": [
       "A matrix: 2 × 2 of type dbl\n",
       "\\begin{tabular}{r|ll}\n",
       "  & 2.5 \\% & 97.5 \\%\\\\\n",
       "\\hline\n",
       "\t(Intercept) & 93.5487358 & 93.5558066\\\\\n",
       "\ttasa &  0.2834343 &  0.2879292\\\\\n",
       "\\end{tabular}\n"
      ],
      "text/markdown": [
       "\n",
       "A matrix: 2 × 2 of type dbl\n",
       "\n",
       "| <!--/--> | 2.5 % | 97.5 % |\n",
       "|---|---|---|\n",
       "| (Intercept) | 93.5487358 | 93.5558066 |\n",
       "| tasa |  0.2834343 |  0.2879292 |\n",
       "\n"
      ],
      "text/plain": [
       "            2.5 %      97.5 %    \n",
       "(Intercept) 93.5487358 93.5558066\n",
       "tasa         0.2834343  0.2879292"
      ]
     },
     "metadata": {},
     "output_type": "display_data"
    }
   ],
   "source": [
    "confint(regresion)"
   ]
  },
  {
   "cell_type": "code",
   "execution_count": 13,
   "metadata": {},
   "outputs": [
    {
     "data": {
      "text/html": [
       "<table>\n",
       "<caption>A matrix: 2 × 2 of type dbl</caption>\n",
       "<thead>\n",
       "\t<tr><th></th><th scope=col>5 %</th><th scope=col>95 %</th></tr>\n",
       "</thead>\n",
       "<tbody>\n",
       "\t<tr><th scope=row>(Intercept)</th><td>93.5493042</td><td>93.5552381</td></tr>\n",
       "\t<tr><th scope=row>tasa</th><td> 0.2837956</td><td> 0.2875678</td></tr>\n",
       "</tbody>\n",
       "</table>\n"
      ],
      "text/latex": [
       "A matrix: 2 × 2 of type dbl\n",
       "\\begin{tabular}{r|ll}\n",
       "  & 5 \\% & 95 \\%\\\\\n",
       "\\hline\n",
       "\t(Intercept) & 93.5493042 & 93.5552381\\\\\n",
       "\ttasa &  0.2837956 &  0.2875678\\\\\n",
       "\\end{tabular}\n"
      ],
      "text/markdown": [
       "\n",
       "A matrix: 2 × 2 of type dbl\n",
       "\n",
       "| <!--/--> | 5 % | 95 % |\n",
       "|---|---|---|\n",
       "| (Intercept) | 93.5493042 | 93.5552381 |\n",
       "| tasa |  0.2837956 |  0.2875678 |\n",
       "\n"
      ],
      "text/plain": [
       "            5 %        95 %      \n",
       "(Intercept) 93.5493042 93.5552381\n",
       "tasa         0.2837956  0.2875678"
      ]
     },
     "metadata": {},
     "output_type": "display_data"
    }
   ],
   "source": [
    "confint(regresion, level = 0.90)"
   ]
  },
  {
   "cell_type": "code",
   "execution_count": 14,
   "metadata": {},
   "outputs": [
    {
     "data": {
      "image/png": "[encoded data removed]",
      "text/plain": [
       "plot without title"
      ]
     },
     "metadata": {
      "image/png": {
       "height": 420,
       "width": 420
      },
      "text/plain": {
       "height": 420,
       "width": 420
      }
     },
     "output_type": "display_data"
    }
   ],
   "source": [
    "indiceTasa <- data.frame(tasa = seq(-4, 2))\n",
    "# Grafico de dispersion y recta\n",
    "plot(conti$tasa, conti$indiceP, xlab='Tasa', ylab='Indice de precio')\n",
    "abline(regresion)\n",
    "\n",
    "# Intervalos de confianza de la respuesta media:\n",
    "# ic es una matriz con tres columnas: la primera es la prediccion, las otras dos son los extremos del intervalo\n",
    "ic <- predict(regresion, indiceTasa, interval = 'confidence',se.regresion=T)\n",
    "lines(indiceTasa$tasa, ic[, 2], lty = 2, col='blue')\n",
    "lines(indiceTasa$tasa, ic[, 3], lty = 2,col='blue')\n",
    "\n",
    "# Intervalos de prediccion\n",
    "ic <- predict(regresion, indiceTasa, interval = 'prediction')\n",
    "lines(indiceTasa$tasa, ic[, 2], lty = 2, col = 'red')\n",
    "lines(indiceTasa$tasa, ic[, 3], lty = 2, col = 'red')"
   ]
  },
  {
   "cell_type": "code",
   "execution_count": 15,
   "metadata": {},
   "outputs": [
    {
     "data": {
      "text/html": [
       "<table>\n",
       "<caption>A anova: 2 × 5</caption>\n",
       "<thead>\n",
       "\t<tr><th></th><th scope=col>Df</th><th scope=col>Sum Sq</th><th scope=col>Mean Sq</th><th scope=col>F value</th><th scope=col>Pr(&gt;F)</th></tr>\n",
       "\t<tr><th></th><th scope=col>&lt;int&gt;</th><th scope=col>&lt;dbl&gt;</th><th scope=col>&lt;dbl&gt;</th><th scope=col>&lt;dbl&gt;</th><th scope=col>&lt;dbl&gt;</th></tr>\n",
       "</thead>\n",
       "<tbody>\n",
       "\t<tr><th scope=row>tasa</th><td>    1</td><td>8295.740</td><td>8295.7403874</td><td>62074.09</td><td> 0</td></tr>\n",
       "\t<tr><th scope=row>Residuals</th><td>41186</td><td>5504.203</td><td>   0.1336426</td><td>      NA</td><td>NA</td></tr>\n",
       "</tbody>\n",
       "</table>\n"
      ],
      "text/latex": [
       "A anova: 2 × 5\n",
       "\\begin{tabular}{r|lllll}\n",
       "  & Df & Sum Sq & Mean Sq & F value & Pr(>F)\\\\\n",
       "  & <int> & <dbl> & <dbl> & <dbl> & <dbl>\\\\\n",
       "\\hline\n",
       "\ttasa &     1 & 8295.740 & 8295.7403874 & 62074.09 &  0\\\\\n",
       "\tResiduals & 41186 & 5504.203 &    0.1336426 &       NA & NA\\\\\n",
       "\\end{tabular}\n"
      ],
      "text/markdown": [
       "\n",
       "A anova: 2 × 5\n",
       "\n",
       "| <!--/--> | Df &lt;int&gt; | Sum Sq &lt;dbl&gt; | Mean Sq &lt;dbl&gt; | F value &lt;dbl&gt; | Pr(&gt;F) &lt;dbl&gt; |\n",
       "|---|---|---|---|---|---|\n",
       "| tasa |     1 | 8295.740 | 8295.7403874 | 62074.09 |  0 |\n",
       "| Residuals | 41186 | 5504.203 |    0.1336426 |       NA | NA |\n",
       "\n"
      ],
      "text/plain": [
       "          Df    Sum Sq   Mean Sq      F value  Pr(>F)\n",
       "tasa          1 8295.740 8295.7403874 62074.09  0    \n",
       "Residuals 41186 5504.203    0.1336426       NA NA    "
      ]
     },
     "metadata": {},
     "output_type": "display_data"
    }
   ],
   "source": [
    "anova(regresion)"
   ]
  },
  {
   "cell_type": "code",
   "execution_count": 16,
   "metadata": {},
   "outputs": [
    {
     "data": {
      "image/png": "[encoded data removed]",
      "text/plain": [
       "plot without title"
      ]
     },
     "metadata": {
      "image/png": {
       "height": 420,
       "width": 420
      },
      "text/plain": {
       "height": 420,
       "width": 420
      }
     },
     "output_type": "display_data"
    }
   ],
   "source": [
    "residuos <- rstandard(regresion)\n",
    "valores.ajustados <- fitted(regresion)\n",
    "plot(valores.ajustados, residuos)"
   ]
  },
  {
   "cell_type": "code",
   "execution_count": 17,
   "metadata": {},
   "outputs": [
    {
     "data": {
      "image/png": "[encoded data removed]",
      "text/plain": [
       "Plot with title \"Normal Q-Q Plot\""
      ]
     },
     "metadata": {
      "image/png": {
       "height": 420,
       "width": 420
      },
      "text/plain": {
       "height": 420,
       "width": 420
      }
     },
     "output_type": "display_data"
    }
   ],
   "source": [
    "qqnorm(residuos)\n",
    "qqline(residuos)"
   ]
  },
  {
   "cell_type": "markdown",
   "metadata": {},
   "source": [
    "Lo grafique por segunda vez de segunda forma para verificar, este es con la libreria (\"ggplot2\")"
   ]
  },
  {
   "cell_type": "code",
   "execution_count": 22,
   "metadata": {},
   "outputs": [
    {
     "name": "stderr",
     "output_type": "stream",
     "text": [
      "Warning message in predict.lm(regresion, interval = \"prediction\"):\n",
      "\"predictions on current data refer to _future_ responses\n",
      "\"\n",
      "`geom_smooth()` using formula 'y ~ x'\n",
      "\n"
     ]
    },
    {
     "data": {
      "image/png": "[encoded data removed]",
      "text/plain": [
       "plot without title"
      ]
     },
     "metadata": {
      "image/png": {
       "height": 420,
       "width": 420
      },
      "text/plain": {
       "height": 420,
       "width": 420
      }
     },
     "output_type": "display_data"
    }
   ],
   "source": [
    "\n",
    "# 1. Add predictions \n",
    "pred.int <- predict(regresion, interval = \"prediction\")\n",
    "mydata <- cbind(conti, pred.int)\n",
    "# 2. Regression line + confidence intervals\n",
    "\n",
    "p <- ggplot(mydata, aes(tasa, indiceP)) +\n",
    "  geom_point() +\n",
    "  stat_smooth(method = lm)\n",
    "# 3. Add prediction intervals\n",
    "p + geom_line(aes(y = lwr), color = \"red\", linetype = \"dashed\")+\n",
    "    geom_line(aes(y = upr), color = \"red\", linetype = \"dashed\")"
   ]
  },
  {
   "cell_type": "markdown",
   "metadata": {},
   "source": [
    "<H6> tasa de variacion de empleo y euribor </H6>"
   ]
  },
  {
   "cell_type": "code",
   "execution_count": 23,
   "metadata": {},
   "outputs": [
    {
     "data": {
      "image/png": "[encoded data removed]",
      "text/plain": [
       "plot without title"
      ]
     },
     "metadata": {
      "image/png": {
       "height": 420,
       "width": 420
      },
      "text/plain": {
       "height": 420,
       "width": 420
      }
     },
     "output_type": "display_data"
    }
   ],
   "source": [
    "plot(conti$tasa,conti$eu)"
   ]
  },
  {
   "cell_type": "code",
   "execution_count": 27,
   "metadata": {},
   "outputs": [
    {
     "data": {
      "text/plain": [
       "\n",
       "Call:\n",
       "lm(formula = euribor ~ tasa, data = conti)\n",
       "\n",
       "Residuals:\n",
       "     Min       1Q   Median       3Q      Max \n",
       "-1.47663 -0.17219 -0.07319  0.14284  1.61895 \n",
       "\n",
       "Coefficients:\n",
       "            Estimate Std. Error t value Pr(>|t|)    \n",
       "(Intercept) 3.533393   0.002002  1764.7   <2e-16 ***\n",
       "tasa        1.073425   0.001273   843.3   <2e-16 ***\n",
       "---\n",
       "Signif. codes:  0 '***' 0.001 '**' 0.01 '*' 0.05 '.' 0.1 ' ' 1\n",
       "\n",
       "Residual standard error: 0.4058 on 41186 degrees of freedom\n",
       "Multiple R-squared:  0.9453,\tAdjusted R-squared:  0.9453 \n",
       "F-statistic: 7.112e+05 on 1 and 41186 DF,  p-value: < 2.2e-16\n"
      ]
     },
     "metadata": {},
     "output_type": "display_data"
    }
   ],
   "source": [
    "modelo <- lm(euribor ~ tasa, data=conti)\n",
    "summary(modelo)"
   ]
  },
  {
   "cell_type": "code",
   "execution_count": 28,
   "metadata": {},
   "outputs": [
    {
     "data": {
      "text/plain": [
       "\n",
       "\tPearson's product-moment correlation\n",
       "\n",
       "data:  conti$euribor and conti$tasa\n",
       "t = 843.33, df = 41186, p-value < 2.2e-16\n",
       "alternative hypothesis: true correlation is not equal to 0\n",
       "95 percent confidence interval:\n",
       " 0.9717110 0.9727684\n",
       "sample estimates:\n",
       "      cor \n",
       "0.9722447 \n"
      ]
     },
     "metadata": {},
     "output_type": "display_data"
    }
   ],
   "source": [
    "cor.test(conti$euribor,conti$tasa, method = \"pearson\")"
   ]
  },
  {
   "cell_type": "code",
   "execution_count": 29,
   "metadata": {
    "scrolled": false
   },
   "outputs": [
    {
     "data": {
      "image/png": "[encoded data removed]",
      "text/plain": [
       "plot without title"
      ]
     },
     "metadata": {
      "image/png": {
       "height": 420,
       "width": 420
      },
      "text/plain": {
       "height": 420,
       "width": 420
      }
     },
     "output_type": "display_data"
    }
   ],
   "source": [
    "plot(conti$tasa, conti$euribor, xlab='tasa', ylab='indice de precio')\n",
    "abline(modelo)"
   ]
  },
  {
   "cell_type": "code",
   "execution_count": 30,
   "metadata": {},
   "outputs": [
    {
     "data": {
      "text/html": [
       "<table>\n",
       "<caption>A matrix: 2 × 2 of type dbl</caption>\n",
       "<thead>\n",
       "\t<tr><th></th><th scope=col>2.5 %</th><th scope=col>97.5 %</th></tr>\n",
       "</thead>\n",
       "<tbody>\n",
       "\t<tr><th scope=row>(Intercept)</th><td>3.529468</td><td>3.537317</td></tr>\n",
       "\t<tr><th scope=row>tasa</th><td>1.070930</td><td>1.075920</td></tr>\n",
       "</tbody>\n",
       "</table>\n"
      ],
      "text/latex": [
       "A matrix: 2 × 2 of type dbl\n",
       "\\begin{tabular}{r|ll}\n",
       "  & 2.5 \\% & 97.5 \\%\\\\\n",
       "\\hline\n",
       "\t(Intercept) & 3.529468 & 3.537317\\\\\n",
       "\ttasa & 1.070930 & 1.075920\\\\\n",
       "\\end{tabular}\n"
      ],
      "text/markdown": [
       "\n",
       "A matrix: 2 × 2 of type dbl\n",
       "\n",
       "| <!--/--> | 2.5 % | 97.5 % |\n",
       "|---|---|---|\n",
       "| (Intercept) | 3.529468 | 3.537317 |\n",
       "| tasa | 1.070930 | 1.075920 |\n",
       "\n"
      ],
      "text/plain": [
       "            2.5 %    97.5 %  \n",
       "(Intercept) 3.529468 3.537317\n",
       "tasa        1.070930 1.075920"
      ]
     },
     "metadata": {},
     "output_type": "display_data"
    }
   ],
   "source": [
    "confint(modelo)"
   ]
  },
  {
   "cell_type": "code",
   "execution_count": 31,
   "metadata": {},
   "outputs": [
    {
     "data": {
      "text/html": [
       "<table>\n",
       "<caption>A matrix: 2 × 2 of type dbl</caption>\n",
       "<thead>\n",
       "\t<tr><th></th><th scope=col>5 %</th><th scope=col>95 %</th></tr>\n",
       "</thead>\n",
       "<tbody>\n",
       "\t<tr><th scope=row>(Intercept)</th><td>3.530099</td><td>3.536686</td></tr>\n",
       "\t<tr><th scope=row>tasa</th><td>1.071331</td><td>1.075519</td></tr>\n",
       "</tbody>\n",
       "</table>\n"
      ],
      "text/latex": [
       "A matrix: 2 × 2 of type dbl\n",
       "\\begin{tabular}{r|ll}\n",
       "  & 5 \\% & 95 \\%\\\\\n",
       "\\hline\n",
       "\t(Intercept) & 3.530099 & 3.536686\\\\\n",
       "\ttasa & 1.071331 & 1.075519\\\\\n",
       "\\end{tabular}\n"
      ],
      "text/markdown": [
       "\n",
       "A matrix: 2 × 2 of type dbl\n",
       "\n",
       "| <!--/--> | 5 % | 95 % |\n",
       "|---|---|---|\n",
       "| (Intercept) | 3.530099 | 3.536686 |\n",
       "| tasa | 1.071331 | 1.075519 |\n",
       "\n"
      ],
      "text/plain": [
       "            5 %      95 %    \n",
       "(Intercept) 3.530099 3.536686\n",
       "tasa        1.071331 1.075519"
      ]
     },
     "metadata": {},
     "output_type": "display_data"
    }
   ],
   "source": [
    "confint(modelo, level = 0.90)"
   ]
  },
  {
   "cell_type": "code",
   "execution_count": 32,
   "metadata": {},
   "outputs": [
    {
     "data": {
      "image/png": "[encoded data removed]",
      "text/plain": [
       "plot without title"
      ]
     },
     "metadata": {
      "image/png": {
       "height": 420,
       "width": 420
      },
      "text/plain": {
       "height": 420,
       "width": 420
      }
     },
     "output_type": "display_data"
    }
   ],
   "source": [
    "nuevasTasa <- data.frame(tasa = seq(-5, 3))\n",
    "# Grafico de dispersion y recta\n",
    "plot(conti$tasa, conti$euribor ,xlab = \"tasa de empleo\", ylab = \"euribor\" )\n",
    "abline(modelo)\n",
    "\n",
    "# Intervalos de confianza de la respuesta media:\n",
    "# ic es una matriz con tres columnas: la primera es la prediccion, las otras dos son los extremos del intervalo\n",
    "ic <- predict(modelo, nuevasTasa, interval = 'confidence')\n",
    "lines(nuevasTasa$tasa, ic[, 2], lty = 2)\n",
    "lines(nuevasTasa$tasa, ic[, 3], lty = 2)\n",
    "\n",
    "# Intervalos de prediccion\n",
    "ic <- predict(modelo, nuevasTasa, interval = 'prediction')\n",
    "lines(nuevasTasa$tasa, ic[, 2], lty = 2, col = 'red')\n",
    "lines(nuevasTasa$tasa, ic[, 3], lty = 2, col = 'red')"
   ]
  },
  {
   "cell_type": "code",
   "execution_count": 35,
   "metadata": {},
   "outputs": [
    {
     "data": {
      "image/png": "[encoded data removed]",
      "text/plain": [
       "plot without title"
      ]
     },
     "metadata": {
      "image/png": {
       "height": 420,
       "width": 420
      },
      "text/plain": {
       "height": 420,
       "width": 420
      }
     },
     "output_type": "display_data"
    }
   ],
   "source": [
    "residuos1 <- rstandard(modelo)\n",
    "valores.ajustados1 <- fitted(modelo)\n",
    "plot(valores.ajustados1, residuos1)"
   ]
  },
  {
   "cell_type": "code",
   "execution_count": 36,
   "metadata": {},
   "outputs": [
    {
     "data": {
      "image/png": "[encoded data removed]",
      "text/plain": [
       "Plot with title \"Normal Q-Q Plot\""
      ]
     },
     "metadata": {
      "image/png": {
       "height": 420,
       "width": 420
      },
      "text/plain": {
       "height": 420,
       "width": 420
      }
     },
     "output_type": "display_data"
    }
   ],
   "source": [
    "qqnorm(residuos1)\n",
    "qqline(residuos1)"
   ]
  },
  {
   "cell_type": "code",
   "execution_count": null,
   "metadata": {},
   "outputs": [],
   "source": []
  }
 ],
 "metadata": {
  "kernelspec": {
   "display_name": "R",
   "language": "R",
   "name": "ir"
  },
  "language_info": {
   "codemirror_mode": "r",
   "file_extension": ".r",
   "mimetype": "text/x-r-source",
   "name": "R",
   "pygments_lexer": "r",
   "version": "4.0.0"
  }
 },
 "nbformat": 4,
 "nbformat_minor": 4
}
